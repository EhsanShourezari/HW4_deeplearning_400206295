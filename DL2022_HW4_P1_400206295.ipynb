{
  "nbformat": 4,
  "nbformat_minor": 0,
  "metadata": {
    "colab": {
      "provenance": []
    },
    "kernelspec": {
      "name": "python3",
      "display_name": "Python 3"
    },
    "language_info": {
      "name": "python"
    },
    "gpuClass": "standard",
    "accelerator": "GPU"
  },
  "cells": [
    {
      "cell_type": "markdown",
      "source": [
        "# Deep Learning\n",
        "## HW4 - Problem 1 "
      ],
      "metadata": {
        "id": "rSJ3ZQsKoGh1"
      }
    },
    {
      "cell_type": "markdown",
      "source": [
        "1.   Full Name: Ehsanollah Shourezari\n",
        "2.   Student Number: 400206295"
      ],
      "metadata": {
        "id": "-Yx0XbSWoKZe"
      }
    },
    {
      "cell_type": "markdown",
      "source": [
        "The code origin : https://pytorch.org/tutorials/intermediate/seq2seq_translation_tutorial.html#the-seq2seq-model"
      ],
      "metadata": {
        "id": "kTiAGqUMoLxx"
      }
    },
    {
      "cell_type": "code",
      "execution_count": 1,
      "metadata": {
        "id": "sYl78Dg26lsR"
      },
      "outputs": [],
      "source": [
        "from google.colab import drive\n",
        "from google.colab import files\n",
        "from __future__ import unicode_literals, print_function, division\n",
        "from io import open\n",
        "import unicodedata\n",
        "import string\n",
        "import re\n",
        "import random\n",
        "\n",
        "import torch\n",
        "import torch.nn as nn\n",
        "from torch import optim\n",
        "import torch.nn.functional as F\n",
        "import numpy as np\n",
        "import copy\n",
        "\n",
        "device = torch.device(\"cuda\" if torch.cuda.is_available() else \"cpu\")"
      ]
    },
    {
      "cell_type": "code",
      "source": [
        "# you can comment this cell when you run it\n",
        "drive.mount('/content/drive')"
      ],
      "metadata": {
        "colab": {
          "base_uri": "https://localhost:8080/"
        },
        "id": "RpvKJuwc6Pp_",
        "outputId": "477ca04d-199d-437b-90e1-df235b45becd"
      },
      "execution_count": 2,
      "outputs": [
        {
          "output_type": "stream",
          "name": "stdout",
          "text": [
            "Mounted at /content/drive\n"
          ]
        }
      ]
    },
    {
      "cell_type": "code",
      "source": [
        "# data download\n",
        "\n",
        "# if you got rror in running this cell uncomment the next line \n",
        "!pip install --upgrade --no-cache-dir gdown\n",
        "\n",
        "!mkdir data \n",
        "%cd /content/data/\n",
        "!gdown 133cM1NJWJuys6SKHv_XaAHtbTY91wtgY\n",
        "%cd /content"
      ],
      "metadata": {
        "colab": {
          "base_uri": "https://localhost:8080/"
        },
        "id": "aLFM-DG0VCRO",
        "outputId": "abcb1ea0-684b-4cff-f1e5-d1a4d2195650"
      },
      "execution_count": 3,
      "outputs": [
        {
          "output_type": "stream",
          "name": "stdout",
          "text": [
            "Looking in indexes: https://pypi.org/simple, https://us-python.pkg.dev/colab-wheels/public/simple/\n",
            "Requirement already satisfied: gdown in /usr/local/lib/python3.8/dist-packages (4.4.0)\n",
            "Collecting gdown\n",
            "  Downloading gdown-4.6.0-py3-none-any.whl (14 kB)\n",
            "Requirement already satisfied: tqdm in /usr/local/lib/python3.8/dist-packages (from gdown) (4.64.1)\n",
            "Requirement already satisfied: filelock in /usr/local/lib/python3.8/dist-packages (from gdown) (3.9.0)\n",
            "Requirement already satisfied: requests[socks] in /usr/local/lib/python3.8/dist-packages (from gdown) (2.25.1)\n",
            "Requirement already satisfied: beautifulsoup4 in /usr/local/lib/python3.8/dist-packages (from gdown) (4.6.3)\n",
            "Requirement already satisfied: six in /usr/local/lib/python3.8/dist-packages (from gdown) (1.15.0)\n",
            "Requirement already satisfied: idna<3,>=2.5 in /usr/local/lib/python3.8/dist-packages (from requests[socks]->gdown) (2.10)\n",
            "Requirement already satisfied: urllib3<1.27,>=1.21.1 in /usr/local/lib/python3.8/dist-packages (from requests[socks]->gdown) (1.24.3)\n",
            "Requirement already satisfied: certifi>=2017.4.17 in /usr/local/lib/python3.8/dist-packages (from requests[socks]->gdown) (2022.12.7)\n",
            "Requirement already satisfied: chardet<5,>=3.0.2 in /usr/local/lib/python3.8/dist-packages (from requests[socks]->gdown) (4.0.0)\n",
            "Requirement already satisfied: PySocks!=1.5.7,>=1.5.6 in /usr/local/lib/python3.8/dist-packages (from requests[socks]->gdown) (1.7.1)\n",
            "Installing collected packages: gdown\n",
            "  Attempting uninstall: gdown\n",
            "    Found existing installation: gdown 4.4.0\n",
            "    Uninstalling gdown-4.4.0:\n",
            "      Successfully uninstalled gdown-4.4.0\n",
            "Successfully installed gdown-4.6.0\n",
            "/content/data\n",
            "Downloading...\n",
            "From: https://drive.google.com/uc?id=133cM1NJWJuys6SKHv_XaAHtbTY91wtgY\n",
            "To: /content/data/ferdousi.txt\n",
            "100% 4.54M/4.54M [00:00<00:00, 236MB/s]\n",
            "/content\n"
          ]
        }
      ]
    },
    {
      "cell_type": "code",
      "source": [
        "# encoding all the words to one-hot (index) vectors\n",
        "SOS_token = 0\n",
        "EOS_token = 1\n",
        "\n",
        "\n",
        "class Lang:\n",
        "    def __init__(self, name):\n",
        "        self.name = name\n",
        "        self.word2index = {}\n",
        "        self.word2count = {}\n",
        "        self.index2word = {0: \"SOS\", 1: \"EOS\"}\n",
        "        self.n_words = 2  # Count SOS and EOS\n",
        "\n",
        "    def addSentence(self, sentence):\n",
        "        for word in sentence.split(' '):\n",
        "            self.addWord(word)\n",
        "\n",
        "    def addWord(self, word):\n",
        "        if word not in self.word2index:\n",
        "            self.word2index[word] = self.n_words\n",
        "            self.word2count[word] = 1\n",
        "            self.index2word[self.n_words] = word\n",
        "            self.n_words += 1\n",
        "        else:\n",
        "            self.word2count[word] += 1"
      ],
      "metadata": {
        "id": "cdUpfIGWn3RH"
      },
      "execution_count": 4,
      "outputs": []
    },
    {
      "cell_type": "code",
      "source": [
        "# Turn a Unicode string to plain ASCII\n",
        "def unicodeToAscii(s):\n",
        "    return ''.join(\n",
        "        c for c in unicodedata.normalize('NFD', s)\n",
        "        if unicodedata.category(c) != 'Mn'\n",
        "    )\n",
        "\n",
        "\n",
        "# remove extra spaces, trim punctuations\n",
        "\n",
        "def normalizeString(s):\n",
        "    s = unicodeToAscii(s.strip())\n",
        "    s = re.sub(r\"([؟!.،؛])\", r\"\", s)\n",
        "\n",
        "    return s"
      ],
      "metadata": {
        "id": "F0cRPNu1oxwF"
      },
      "execution_count": 5,
      "outputs": []
    },
    {
      "cell_type": "code",
      "source": [
        "# spliting data to input and output\n",
        "def readLangs(lang1, lang2):\n",
        "    print(\"Reading lines...\")\n",
        "\n",
        "    # Read the file and split into lines\n",
        "    lines = open('/content/data/ferdousi.txt' , encoding='utf-8').read().strip().split('\\n')\n",
        "    \n",
        "    # Split every 2-line into pairs and normalize (Mesra instead of Beyt)\n",
        "\n",
        "    pair = []\n",
        "    pairs = []\n",
        "    \n",
        "    j = 0\n",
        "    for i in lines[2:] :  \n",
        "        pair.append(normalizeString(i))     \n",
        "        if j%2 : \n",
        "          pairs.append(pair)\n",
        "          pair = []\n",
        "        j = j + 1  \n",
        "  \n",
        "    input_lang = Lang(lang1)\n",
        "    output_lang = Lang(lang2)\n",
        "\n",
        "    return input_lang, output_lang, pairs"
      ],
      "metadata": {
        "id": "2inr7p8pp-U2"
      },
      "execution_count": 6,
      "outputs": []
    },
    {
      "cell_type": "code",
      "source": [
        "# find the maximum num of words in a Mesra (for probable purposes like padding , ... )\n",
        "\n",
        "def MaxNumWord() :\n",
        "    \n",
        "    lines = open('/content/data/ferdousi.txt' , encoding='utf-8').read().strip().split('\\n')\n",
        "    lenWord = [len(Mesra.split(' ')) for Mesra in lines[2:] ]\n",
        "    maxWord = max(lenWord)\n",
        "\n",
        "\n",
        "    return maxWord\n",
        "    "
      ],
      "metadata": {
        "id": "w6-37ql-Hy1l"
      },
      "execution_count": 7,
      "outputs": []
    },
    {
      "cell_type": "code",
      "source": [
        "def prepareData(lang1, lang2):\n",
        "    input_lang, output_lang, pairs = readLangs(lang1, lang2)\n",
        "    print(\"Read %s Beyt pairs\" % len(pairs))\n",
        "    print(\"Counting words...\")\n",
        "    for pair in pairs:\n",
        "        input_lang.addSentence(pair[0])\n",
        "        output_lang.addSentence(pair[1])\n",
        "    print(\"Counted words:\")\n",
        "    print(input_lang.name, input_lang.n_words)\n",
        "    print(output_lang.name, output_lang.n_words)\n",
        "    return input_lang, output_lang, pairs\n",
        "\n",
        "\n",
        "input_lang, output_lang, pairs = prepareData('Mesra_1', 'Mesra_2')\n",
        "a = random.choice(pairs)\n",
        "print(a)\n",
        "print(a[0])\n",
        "print(a[1])"
      ],
      "metadata": {
        "colab": {
          "base_uri": "https://localhost:8080/"
        },
        "id": "bAT6txtAFs-f",
        "outputId": "a65591bf-14c1-48c5-a26c-0a106c85148c"
      },
      "execution_count": 8,
      "outputs": [
        {
          "output_type": "stream",
          "name": "stdout",
          "text": [
            "Reading lines...\n",
            "Read 49608 Beyt pairs\n",
            "Counting words...\n",
            "Counted words:\n",
            "Mesra_1 12463\n",
            "Mesra_2 13078\n",
            "['که با من چه کرد اندران گستهم', 'غم و شادمانیش با من بهم']\n",
            "که با من چه کرد اندران گستهم\n",
            "غم و شادمانیش با من بهم\n"
          ]
        }
      ]
    },
    {
      "cell_type": "markdown",
      "source": [
        "## Seq2Seq model"
      ],
      "metadata": {
        "id": "GmosbZzulrNe"
      }
    },
    {
      "cell_type": "code",
      "source": [
        "# encoder network\n",
        "class EncoderRNN(nn.Module):\n",
        "    def __init__(self, input_size, hidden_size, arch):\n",
        "        super(EncoderRNN, self).__init__()\n",
        "        self.hidden_size = hidden_size\n",
        "        self.arch = arch.lower()\n",
        "        self.embedding = nn.Embedding(input_size, hidden_size)\n",
        "        \n",
        "        if arch.lower() == 'lstm' :\n",
        "           self.myRNN = nn.LSTM(hidden_size, hidden_size)\n",
        "        elif arch.lower() == 'gru' : \n",
        "           self.myRNN = nn.GRU(hidden_size, hidden_size, bidirectional = True)\n",
        "        \n",
        "    def forward(self, input, hidden):\n",
        "        output = self.embedding(input).view(1, 1, -1)\n",
        "        output, hidden = self.myRNN(output, hidden)\n",
        "\n",
        "        return output, hidden\n",
        "\n",
        "    def initHidden(self):\n",
        "        if self.arch == 'lstm' :\n",
        "           return (torch.zeros(1, 1, self.hidden_size, device=device),torch.zeros(1, 1, self.hidden_size, device=device))\n",
        "        elif self.arch == 'gru' : \n",
        "           return torch.zeros(2, 1, self.hidden_size, device=device)"
      ],
      "metadata": {
        "id": "Jt3oSEauPk0E"
      },
      "execution_count": 9,
      "outputs": []
    },
    {
      "cell_type": "code",
      "source": [
        "# decoder_network\n",
        "class DecoderRNN(nn.Module):\n",
        "    def __init__(self, hidden_size, output_size, arch):\n",
        "        super(DecoderRNN, self).__init__()\n",
        "        self.hidden_size = hidden_size\n",
        "        self.arch = arch.lower()\n",
        "        self.embedding = nn.Embedding(output_size, hidden_size)\n",
        "        \n",
        "        if arch.lower() == 'lstm' :\n",
        "           self.myRNN = nn.LSTM(hidden_size, hidden_size)\n",
        "        elif arch.lower() == 'gru' : \n",
        "           self.myRNN = nn.GRU(hidden_size, hidden_size, bidirectional = True)\n",
        "        \n",
        "        if arch.lower() == 'lstm' :\n",
        "           self.out = nn.Linear(hidden_size, output_size)\n",
        "        elif arch.lower() == 'gru' : \n",
        "          self.out = nn.Linear(2*hidden_size, output_size)\n",
        "\n",
        "        \n",
        "        self.softmax = nn.LogSoftmax(dim=1)\n",
        "\n",
        "    def forward(self, input, hidden):\n",
        "      \n",
        "        output = self.embedding(input).view(1, 1, -1)\n",
        "        output = F.relu(output)\n",
        "        \n",
        "        output, hidden = self.myRNN(output, hidden)\n",
        "        output = self.softmax(self.out(output[0]))\n",
        "        return output, hidden\n",
        "\n",
        "    def initHidden(self):\n",
        "        return torch.zeros(1, 1, self.hidden_size, device=device)"
      ],
      "metadata": {
        "id": "WQpGOFBLQFQg"
      },
      "execution_count": 10,
      "outputs": []
    },
    {
      "cell_type": "code",
      "source": [
        "# Preparing Data for RNN network\n",
        "\n",
        "# To train, for each pair we will need an input tensor (indexes of the\n",
        "# words in the input sentence) and target tensor (indexes of the words in\n",
        "# the target sentence). While creating these vectors we will append the\n",
        "# EOS token to both sequences.\n",
        "\n",
        "\n",
        "def indexesFromSentence(lang, sentence):\n",
        "    return [lang.word2index[word] for word in sentence.split(' ')]\n",
        "\n",
        "\n",
        "def tensorFromSentence(lang, sentence):\n",
        "    indexes = indexesFromSentence(lang, sentence)\n",
        "    indexes.append(EOS_token)\n",
        "    return torch.tensor(indexes, dtype=torch.long, device=device).view(-1, 1)\n",
        "\n",
        "\n",
        "def tensorsFromPair(pair):\n",
        "    input_tensor = tensorFromSentence(input_lang, pair[0])\n",
        "    target_tensor = tensorFromSentence(output_lang, pair[1])\n",
        "    return (input_tensor, target_tensor)"
      ],
      "metadata": {
        "id": "nby7k7nKQoNT"
      },
      "execution_count": 11,
      "outputs": []
    },
    {
      "cell_type": "code",
      "source": [
        "# sample wise training\n",
        "\n",
        "def train(input_tensor, target_tensor, encoder, decoder, encoder_optimizer, decoder_optimizer, criterion):\n",
        "    encoder_hidden = encoder.initHidden()\n",
        "\n",
        "    encoder_optimizer.zero_grad()\n",
        "    decoder_optimizer.zero_grad()\n",
        "\n",
        "    input_length = input_tensor.size(0)\n",
        "    target_length = target_tensor.size(0)\n",
        "\n",
        "\n",
        "\n",
        "    loss = 0\n",
        "\n",
        "    for ei in range(input_length):  \n",
        "        encoder_output, encoder_hidden = encoder(input_tensor[ei], encoder_hidden)\n",
        "    decoder_input = torch.tensor([[SOS_token]], device=device)\n",
        "\n",
        "    decoder_hidden = encoder_hidden\n",
        "\n",
        "\n",
        "\n",
        "    # Teacher forcing: Feed the target as the next input\n",
        "    for di in range(target_length):\n",
        "        decoder_output, decoder_hidden = decoder(\n",
        "              decoder_input, decoder_hidden)\n",
        "        loss += criterion(decoder_output, target_tensor[di])\n",
        "        decoder_input = target_tensor[di]  # Teacher forcing\n",
        "\n",
        "\n",
        "\n",
        "    loss.backward()\n",
        "\n",
        "    encoder_optimizer.step()\n",
        "    decoder_optimizer.step()\n",
        "\n",
        "    return loss.item() / target_length"
      ],
      "metadata": {
        "id": "t83jcGN7SjtS"
      },
      "execution_count": 12,
      "outputs": []
    },
    {
      "cell_type": "code",
      "source": [
        "# training process:\n",
        "\n",
        "# -  Initialize optimizers and criterion\n",
        "# -  Create set of training pairs\n",
        "# -  Start empty losses array for plotting\n",
        "\n",
        "# Then we call ``train`` many times and occasionally print the progress (%\n",
        "# of examples, time so far, estimated time) and average loss.\n",
        "\n",
        "\n",
        "def train_loop(data , model, loss_fn , optimizer):\n",
        "\n",
        "    encoder = model[0]\n",
        "    decoder = model[1]\n",
        "\n",
        "    encoder_optimizer = optimizer[0]\n",
        "    decoder_optimizer = optimizer[1]\n",
        "\n",
        "    loss_hist = []\n",
        "    loss_total = 0\n",
        "    size = len(data)\n",
        "    \n",
        "    training_pairs = copy.copy(data)\n",
        "    random.shuffle(training_pairs)\n",
        "    training_pairs = [tensorsFromPair(training_pairs[i])\n",
        "                      for i in range(size)]\n",
        "    criterion = loss_fn\n",
        "\n",
        "    for i in range(len(training_pairs)):\n",
        "        training_pair = training_pairs[i]\n",
        "        input_tensor = training_pair[0]\n",
        "        target_tensor = training_pair[1]\n",
        "        \n",
        "        loss = train(input_tensor, target_tensor, encoder,decoder, encoder_optimizer, decoder_optimizer, criterion)\n",
        "        loss_total += loss\n",
        "\n",
        "        logger_dis = 6000\n",
        "        if i % logger_dis == 0:\n",
        "            loss_avg = loss_total / logger_dis\n",
        "            loss_hist.append(loss_avg)\n",
        "            loss_total = 0\n",
        "            current = i\n",
        "\n",
        "            print(f\"loss: {loss_avg:>7f}  [{current:>5d}/{size:>5d}]\")\n",
        "\n",
        "    return loss_hist\n"
      ],
      "metadata": {
        "id": "mZ9c-wVXWVs2"
      },
      "execution_count": 13,
      "outputs": []
    },
    {
      "cell_type": "code",
      "source": [
        "# evaluation process :\n",
        "\n",
        "def eval_loop(data, data_name, model, loss_fn) :\n",
        "\n",
        "    encoder = model[0]\n",
        "    decoder = model[1]\n",
        "\n",
        "    size = len(data)\n",
        "    eval_loss, eval_acc = 0, 0\n",
        "\n",
        "    with torch.no_grad():\n",
        "        for i in range(size):\n",
        "            training_pair = tensorsFromPair(data[i])\n",
        "\n",
        "            loss , correct = LossAcc(training_pair , encoder, decoder, loss_fn)\n",
        "            eval_loss += loss\n",
        "            eval_acc += correct\n",
        "\n",
        "    \n",
        "    eval_loss /= size\n",
        "    eval_acc /= size\n",
        "    print(f\"{data_name} : \\n Accuracy: {(100*eval_acc):>0.1f}%, Avg loss per Mesra: {eval_loss:>8f} \\n\")\n",
        "    return eval_acc , eval_loss\n",
        "\n",
        "\n",
        "   \n",
        "def LossAcc(pairs , encoder, decoder, loss_fn, max_length = MaxNumWord()):\n",
        "   \n",
        "    with torch.no_grad():\n",
        "\n",
        "        input_tensor = pairs[0]\n",
        "        target_tensor = pairs[1]\n",
        "\n",
        "\n",
        "        input_length = input_tensor.size()[0]\n",
        "        target_length = target_tensor.size()[0]\n",
        "        encoder_hidden = encoder.initHidden()\n",
        "\n",
        "\n",
        "        for ei in range(input_length):\n",
        "            encoder_output, encoder_hidden = encoder(input_tensor[ei], encoder_hidden)\n",
        "\n",
        "        decoder_input = torch.tensor([[SOS_token]], device=device)  # SOS\n",
        "\n",
        "        decoder_hidden = encoder_hidden\n",
        "\n",
        "        dec_out = []\n",
        "        loss = 0\n",
        "        correct = 0\n",
        "\n",
        "        for di in range(max_length):\n",
        "            decoder_output, decoder_hidden = decoder(decoder_input, decoder_hidden)\n",
        "            loss += loss_fn(decoder_output, target_tensor[di])\n",
        "            topv, topi = decoder_output.topk(1)\n",
        "            \n",
        "            \n",
        "            correct += (topi.item() == target_tensor[di]).type(torch.float).item()\n",
        "             \n",
        "            if topi.item() == EOS_token or target_tensor[di] == EOS_token :\n",
        "                break\n",
        "            \n",
        "            decoder_input = topi.squeeze().detach()\n",
        "\n",
        "        return loss.item() / target_length , correct / target_length"
      ],
      "metadata": {
        "id": "HNlhJ6FyURk2"
      },
      "execution_count": 14,
      "outputs": []
    },
    {
      "cell_type": "code",
      "source": [
        "# epoch-wise training function\n",
        "\n",
        "def train_epochs(data , model, loss_fn , optimizer, epoch , best_model_path) :\n",
        "\n",
        "    Acc_tr_hist  = []\n",
        "    loss_tr_hist = []\n",
        "    Acc_te_hist  = []\n",
        "    loss_te_hist = []\n",
        "\n",
        "    train_data = data[0]\n",
        "    test_data = data[1] \n",
        "\n",
        "\n",
        "    for t in range(epoch):\n",
        "        model[0].train()\n",
        "        model[1].train()\n",
        "        print(f\"Epoch {t+1}\\n-------------------------------\")\n",
        "\n",
        "        train_loop(train_data , model, loss_fn , optimizer) \n",
        "        acc_tr , loss_tr = eval_loop(train_data,'train', model,loss_fn) \n",
        "\n",
        "        Acc_tr_hist.append(acc_tr)\n",
        "        loss_tr_hist.append(loss_tr)\n",
        "      \n",
        "\n",
        "        model[0].eval()\n",
        "        model[1].eval()\n",
        "\n",
        "        acc_te,loss_te = eval_loop(test_data,'test', model,loss_fn)\n",
        "\n",
        "        Acc_te_hist.append(acc_te)\n",
        "        loss_te_hist.append(loss_te)\n",
        "    \n",
        "        if max(Acc_te_hist) == acc_te or max(Acc_tr_hist) == acc_tr :\n",
        "           torch.save(model[0].state_dict() , best_model_path[0]  )  \n",
        "           torch.save(model[1].state_dict() , best_model_path[1]  )  \n",
        "           epoch_BestModel = t+1\n",
        "    print(\"Job is Done!\")\n",
        "    print(f\"the best trained model accuracy in test data: {Acc_te_hist[epoch_BestModel-1]}\" )\n",
        "    return Acc_tr_hist ,loss_tr_hist ,Acc_te_hist ,loss_te_hist\n",
        "     \n",
        "    "
      ],
      "metadata": {
        "id": "M1lscJliwXjR"
      },
      "execution_count": 15,
      "outputs": []
    },
    {
      "cell_type": "code",
      "source": [
        "# vsualizing model loss and accuracy across the epochs\n",
        "import matplotlib.pyplot as plt\n",
        "\n",
        "def MyModelAnalysis(arch_name , Acc_tr_hist , Acc_te_hist , loss_tr_hist , loss_te_hist, epochs) :\n",
        "   \n",
        "    \n",
        "    fig, ax = plt.subplots()\n",
        "    ax.plot(np.arange(epochs)+1,Acc_tr_hist, c='c', label='training Accuracy')\n",
        "    ax.plot(np.arange(epochs)+1,Acc_te_hist, c='m', label='test Accuracy')\n",
        "    plt.legend(loc='upper left')\n",
        "    plt.xlabel(\"epochs\")\n",
        "    plt.ylabel(\"Accuracy\")\n",
        "    plt.title(f\"Accuracy for {arch_name} arcitechture\")\n",
        "    plt.show()\n",
        "\n",
        "    fig, ax = plt.subplots()\n",
        "    ax.plot(np.arange(epochs)+1,loss_tr_hist, c='c', label='training loss')\n",
        "    ax.plot(np.arange(epochs)+1,loss_te_hist, c='m', label='test loss')\n",
        "    plt.legend(loc='upper left')\n",
        "    plt.xlabel(\"epochs\")\n",
        "    plt.ylabel(\"loss\")\n",
        "    plt.title(f\"loss changes in {arch_name} arcitechture\")\n",
        "    plt.show()\n"
      ],
      "metadata": {
        "id": "OCkU7daujdJJ"
      },
      "execution_count": 16,
      "outputs": []
    },
    {
      "cell_type": "code",
      "source": [
        "def NextMesraGenerate(encoder, decoder, first_Mesra , max_length = MaxNumWord()):\n",
        "    with torch.no_grad():\n",
        "        input_tensor = tensorFromSentence(input_lang, first_Mesra)\n",
        "        input_length = input_tensor.size()[0]\n",
        "        encoder_hidden = encoder.initHidden()\n",
        "\n",
        "\n",
        "        for ei in range(input_length):\n",
        "            encoder_output, encoder_hidden = encoder(input_tensor[ei], encoder_hidden)\n",
        "\n",
        "        decoder_input = torch.tensor([[SOS_token]], device=device)  # SOS\n",
        "\n",
        "        decoder_hidden = encoder_hidden\n",
        "\n",
        "        decoded_words = []\n",
        "\n",
        "        for di in range(max_length):\n",
        "            decoder_output, decoder_hidden = decoder(decoder_input, decoder_hidden)\n",
        "            topv, topi = decoder_output.topk(1)\n",
        "            if topi.item() == EOS_token:\n",
        "                decoded_words.append('<EOS>')\n",
        "                break\n",
        "            else:\n",
        "                decoded_words.append(output_lang.index2word[topi.item()])\n",
        "\n",
        "            decoder_input = topi.squeeze().detach()\n",
        "\n",
        "        return decoded_words\n"
      ],
      "metadata": {
        "id": "Tx-WDL2tkU2l"
      },
      "execution_count": 17,
      "outputs": []
    },
    {
      "cell_type": "code",
      "source": [
        "def RandomMesraPredictor(data ,encoder, decoder, n=10):\n",
        "    for i in range(n):\n",
        "        pair = random.choice(pairs)\n",
        "        print('first Mesra', pair[0])\n",
        "        print('second Mesra', pair[1])\n",
        "        output_words = NextMesraGenerate(encoder, decoder, pair[0])\n",
        "        output_sentence = ' '.join(output_words)\n",
        "        print('Predicted second Mesra', output_sentence)\n",
        "        print('')"
      ],
      "metadata": {
        "id": "_1h31rQuw3rd"
      },
      "execution_count": 18,
      "outputs": []
    },
    {
      "cell_type": "code",
      "source": [
        "# prepare data for training\n",
        "train_ratio = 0.75\n",
        "entire_data = copy.copy(pairs)\n",
        "random.shuffle(entire_data)\n",
        "train_len = int(train_ratio*len(entire_data))\n",
        "\n",
        "train_data = entire_data[:train_len]\n",
        "test_data  = entire_data[train_len:]\n",
        "\n"
      ],
      "metadata": {
        "id": "_iakv-hx3NWE"
      },
      "execution_count": 19,
      "outputs": []
    },
    {
      "cell_type": "markdown",
      "source": [
        "## LSTM architecture training"
      ],
      "metadata": {
        "id": "vY3z_B3yG2Z6"
      }
    },
    {
      "cell_type": "code",
      "source": [
        "# model characterisrics\n",
        "hidden_size = 1024\n",
        "encoder1 = EncoderRNN(input_lang.n_words, hidden_size, 'lstm').to(device)\n",
        "decoder1 = DecoderRNN(hidden_size, output_lang.n_words, 'lstm').to(device)\n",
        "\n",
        "learning_rate = 1e-4\n",
        "epochs = 5\n",
        "loss_fn    = nn.CrossEntropyLoss()\n",
        "\n",
        "optimizer1 = torch.optim.Adam(encoder1.parameters(), lr=learning_rate)\n",
        "optimizer2 = torch.optim.Adam(decoder1.parameters(), lr=learning_rate)\n",
        "optim_pack = [optimizer1,optimizer2]\n",
        "seq2seq = [encoder1,decoder1]\n",
        "Data    = [train_data,test_data]\n",
        "\n",
        "best_model_dir = [\"/content/drive/MyDrive/BestLSTM_Enc.pth\", \"/content/drive/MyDrive/BestLSTM_Dec.pth\"]\n",
        "arch_name = 'LSTM'"
      ],
      "metadata": {
        "id": "OdpBs6nkkTqO"
      },
      "execution_count": 20,
      "outputs": []
    },
    {
      "cell_type": "code",
      "source": [
        "# Because I can't run 10 epochs in 1 runtime of google colab GPU sharing, I devide it to two 5_epoch runtimes\n",
        "# LSTM training\n",
        "# This cell take a long time to run. (you can load the best trained model from the next cell)\n",
        "\n",
        "##### FIRST RUNTIME ##############\n",
        "\n",
        "Acc_tr_hist ,loss_tr_hist ,Acc_te_hist ,loss_te_hist = train_epochs(Data , seq2seq, loss_fn , optim_pack, epochs , best_model_dir)\n",
        "MyModelAnalysis(arch_name , Acc_tr_hist , Acc_te_hist , loss_tr_hist , loss_te_hist, epochs)\n"
      ],
      "metadata": {
        "colab": {
          "base_uri": "https://localhost:8080/",
          "height": 1000
        },
        "id": "yeT4R501D6R8",
        "outputId": "a891f815-4c8f-4828-dbdf-f2ecd90dbf47"
      },
      "execution_count": null,
      "outputs": [
        {
          "output_type": "stream",
          "name": "stdout",
          "text": [
            "Epoch 1\n",
            "-------------------------------\n",
            "loss: 0.001574  [    0/37206]\n",
            "loss: 6.225257  [ 6000/37206]\n",
            "loss: 5.837469  [12000/37206]\n",
            "loss: 5.605068  [18000/37206]\n",
            "loss: 5.434214  [24000/37206]\n",
            "loss: 5.234946  [30000/37206]\n",
            "loss: 5.130786  [36000/37206]\n",
            "train : \n",
            " Accuracy: 6.5%, Avg loss per Mesra: 6.840708 \n",
            "\n",
            "test : \n",
            " Accuracy: 6.0%, Avg loss per Mesra: 7.059817 \n",
            "\n",
            "Epoch 2\n",
            "-------------------------------\n",
            "loss: 0.000479  [    0/37206]\n",
            "loss: 4.625576  [ 6000/37206]\n",
            "loss: 4.582263  [12000/37206]\n",
            "loss: 4.598682  [18000/37206]\n",
            "loss: 4.538597  [24000/37206]\n",
            "loss: 4.548029  [30000/37206]\n",
            "loss: 4.494233  [36000/37206]\n",
            "train : \n",
            " Accuracy: 8.7%, Avg loss per Mesra: 6.536687 \n",
            "\n",
            "test : \n",
            " Accuracy: 6.9%, Avg loss per Mesra: 7.059012 \n",
            "\n",
            "Epoch 3\n",
            "-------------------------------\n",
            "loss: 0.000286  [    0/37206]\n",
            "loss: 3.787685  [ 6000/37206]\n",
            "loss: 3.854762  [12000/37206]\n",
            "loss: 3.887329  [18000/37206]\n",
            "loss: 3.947818  [24000/37206]\n",
            "loss: 3.940652  [30000/37206]\n",
            "loss: 4.003173  [36000/37206]\n",
            "train : \n",
            " Accuracy: 12.6%, Avg loss per Mesra: 6.124484 \n",
            "\n",
            "test : \n",
            " Accuracy: 7.8%, Avg loss per Mesra: 7.227609 \n",
            "\n",
            "Epoch 4\n",
            "-------------------------------\n",
            "loss: 0.000559  [    0/37206]\n",
            "loss: 3.052087  [ 6000/37206]\n",
            "loss: 3.147962  [12000/37206]\n",
            "loss: 3.233585  [18000/37206]\n",
            "loss: 3.306345  [24000/37206]\n",
            "loss: 3.388021  [30000/37206]\n",
            "loss: 3.446061  [36000/37206]\n",
            "train : \n",
            " Accuracy: 17.5%, Avg loss per Mesra: 5.688460 \n",
            "\n",
            "test : \n",
            " Accuracy: 8.2%, Avg loss per Mesra: 7.501704 \n",
            "\n",
            "Epoch 5\n",
            "-------------------------------\n",
            "loss: 0.000292  [    0/37206]\n",
            "loss: 2.339769  [ 6000/37206]\n",
            "loss: 2.499018  [12000/37206]\n",
            "loss: 2.598980  [18000/37206]\n",
            "loss: 2.691143  [24000/37206]\n",
            "loss: 2.775133  [30000/37206]\n",
            "loss: 2.823820  [36000/37206]\n",
            "train : \n",
            " Accuracy: 26.2%, Avg loss per Mesra: 5.167322 \n",
            "\n",
            "test : \n",
            " Accuracy: 8.4%, Avg loss per Mesra: 8.076262 \n",
            "\n",
            "Job is Done!\n",
            "the best trained model accuracy in test data: 0.08415448399725031\n"
          ]
        },
        {
          "output_type": "display_data",
          "data": {
            "text/plain": [
              "<Figure size 432x288 with 1 Axes>"
            ],
            "image/png": "[encoded data removed]"
          },
          "metadata": {
            "needs_background": "light"
          }
        },
        {
          "output_type": "display_data",
          "data": {
            "text/plain": [
              "<Figure size 432x288 with 1 Axes>"
            ],
            "image/png": "[encoded data removed]"
          },
          "metadata": {
            "needs_background": "light"
          }
        }
      ]
    },
    {
      "cell_type": "code",
      "source": [
        "##### Second RUNTIME ##############\n",
        "# fine tunes the best LSTM model trained in the first 5 epochs.\n",
        "\n",
        "!mkdir BestModel\n",
        "%cd /content/BestModel/\n",
        "!gdown 17y96Mj67luyF7wf5leOGJbhEwO9sKnlx # decoder\n",
        "!gdown 1kSYZC3rHeiH2ZW_dGdWtM-oznbcj_OP_ # encoder\n",
        "%cd /content\n",
        "\n",
        "Best_LSTM_Enc_dir = \"/content/BestModel/BestLSTM_Enc.pth\"\n",
        "Best_LSTM_Dec_dir = \"/content/BestModel/BestLSTM_Dec.pth\"\n",
        "\n",
        "encoder1.load_state_dict(torch.load(Best_LSTM_Enc_dir))\n",
        "decoder1.load_state_dict(torch.load(Best_LSTM_Dec_dir))\n",
        "\n",
        "learning_rate = 1e-4\n",
        "epochs = 5\n",
        "\n",
        "Acc_tr_hist ,loss_tr_hist ,Acc_te_hist ,loss_te_hist = train_epochs(Data , seq2seq, loss_fn , optim_pack, epochs , best_model_dir)\n",
        "MyModelAnalysis(arch_name , Acc_tr_hist , Acc_te_hist , loss_tr_hist , loss_te_hist, epochs)\n"
      ],
      "metadata": {
        "id": "dnX_zEgkiY66",
        "colab": {
          "base_uri": "https://localhost:8080/",
          "height": 1000
        },
        "outputId": "642d2259-8c63-4acd-db24-698b0a1eee50"
      },
      "execution_count": null,
      "outputs": [
        {
          "output_type": "stream",
          "name": "stdout",
          "text": [
            "mkdir: cannot create directory ‘BestModel’: File exists\n",
            "/content/BestModel\n",
            "Downloading...\n",
            "From: https://drive.google.com/uc?id=17y96Mj67luyF7wf5leOGJbhEwO9sKnlx\n",
            "To: /content/BestModel/BestLSTM_Dec.pth\n",
            "100% 141M/141M [00:00<00:00, 162MB/s]\n",
            "Downloading...\n",
            "From: https://drive.google.com/uc?id=1kSYZC3rHeiH2ZW_dGdWtM-oznbcj_OP_\n",
            "To: /content/BestModel/BestLSTM_Enc.pth\n",
            "100% 84.6M/84.6M [00:00<00:00, 176MB/s]\n",
            "/content\n",
            "Epoch 1\n",
            "-------------------------------\n",
            "loss: 0.000651  [    0/37206]\n",
            "loss: 2.402401  [ 6000/37206]\n",
            "loss: 2.490851  [12000/37206]\n",
            "loss: 2.620729  [18000/37206]\n",
            "loss: 2.719288  [24000/37206]\n",
            "loss: 2.784790  [30000/37206]\n",
            "loss: 2.830361  [36000/37206]\n",
            "train : \n",
            " Accuracy: 33.9%, Avg loss per Mesra: 4.762268 \n",
            "\n",
            "test : \n",
            " Accuracy: 18.3%, Avg loss per Mesra: 6.315084 \n",
            "\n",
            "Epoch 2\n",
            "-------------------------------\n",
            "loss: 0.000163  [    0/37206]\n",
            "loss: 1.684264  [ 6000/37206]\n",
            "loss: 1.810197  [12000/37206]\n",
            "loss: 1.949961  [18000/37206]\n",
            "loss: 2.055889  [24000/37206]\n",
            "loss: 2.131158  [30000/37206]\n",
            "loss: 2.177711  [36000/37206]\n",
            "train : \n",
            " Accuracy: 49.9%, Avg loss per Mesra: 3.704229 \n",
            "\n",
            "test : \n",
            " Accuracy: 17.3%, Avg loss per Mesra: 6.755828 \n",
            "\n",
            "Epoch 3\n",
            "-------------------------------\n",
            "loss: 0.000180  [    0/37206]\n",
            "loss: 1.284825  [ 6000/37206]\n",
            "loss: 1.352715  [12000/37206]\n",
            "loss: 1.510932  [18000/37206]\n",
            "loss: 1.589223  [24000/37206]\n",
            "loss: 1.665061  [30000/37206]\n",
            "loss: 1.759907  [36000/37206]\n",
            "train : \n",
            " Accuracy: 60.6%, Avg loss per Mesra: 3.065681 \n",
            "\n",
            "test : \n",
            " Accuracy: 15.8%, Avg loss per Mesra: 7.420915 \n",
            "\n",
            "Epoch 4\n",
            "-------------------------------\n",
            "loss: 0.000366  [    0/37206]\n",
            "loss: 0.980633  [ 6000/37206]\n",
            "loss: 1.080115  [12000/37206]\n",
            "loss: 1.172202  [18000/37206]\n",
            "loss: 1.251217  [24000/37206]\n",
            "loss: 1.329100  [30000/37206]\n",
            "loss: 1.427100  [36000/37206]\n",
            "train : \n",
            " Accuracy: 71.7%, Avg loss per Mesra: 2.242129 \n",
            "\n",
            "test : \n",
            " Accuracy: 14.9%, Avg loss per Mesra: 7.668636 \n",
            "\n",
            "Epoch 5\n",
            "-------------------------------\n",
            "loss: 0.000023  [    0/37206]\n",
            "loss: 0.796803  [ 6000/37206]\n",
            "loss: 0.873342  [12000/37206]\n",
            "loss: 0.953713  [18000/37206]\n",
            "loss: 1.031659  [24000/37206]\n",
            "loss: 1.111680  [30000/37206]\n",
            "loss: 1.205541  [36000/37206]\n",
            "train : \n",
            " Accuracy: 77.0%, Avg loss per Mesra: 1.841708 \n",
            "\n",
            "test : \n",
            " Accuracy: 14.0%, Avg loss per Mesra: 8.093513 \n",
            "\n",
            "Job is Done!\n",
            "the best trained model accuracy in test data: 0.14018371565541196\n"
          ]
        },
        {
          "output_type": "display_data",
          "data": {
            "text/plain": [
              "<Figure size 432x288 with 1 Axes>"
            ],
            "image/png": "[encoded data removed]"
          },
          "metadata": {
            "needs_background": "light"
          }
        },
        {
          "output_type": "display_data",
          "data": {
            "text/plain": [
              "<Figure size 432x288 with 1 Axes>"
            ],
            "image/png": "[encoded data removed]"
          },
          "metadata": {
            "needs_background": "light"
          }
        }
      ]
    },
    {
      "cell_type": "code",
      "source": [
        "# load the best trained model\n",
        "!mkdir BestModel\n",
        "%cd /content/BestModel/\n",
        "!gdown 1QT4pCWqMsPMLXpEOTZc7XPf6UnlmYEFt\n",
        "!gdown 1tja7eohOUoGKaqCWpK1qkK0GbILe2XG4\n",
        "%cd /content\n",
        "\n",
        "Best_LSTM_Enc_dir = \"/content/BestModel/BestLSTM_Enc.pth\"\n",
        "Best_LSTM_Dec_dir = \"/content/BestModel/BestLSTM_Dec.pth\"\n",
        "hidden_size = 1024\n",
        "encoder1 = EncoderRNN(input_lang.n_words, hidden_size, 'lstm').to(device)\n",
        "decoder1 = DecoderRNN(hidden_size, output_lang.n_words, 'lstm').to(device)\n",
        "\n",
        "encoder1.load_state_dict(torch.load(Best_LSTM_Enc_dir))\n",
        "decoder1.load_state_dict(torch.load(Best_LSTM_Dec_dir))\n",
        "\n"
      ],
      "metadata": {
        "id": "2ECTwU8ZiaOk",
        "colab": {
          "base_uri": "https://localhost:8080/"
        },
        "outputId": "15b6b934-7a71-4734-a8d2-75c022e0b6aa"
      },
      "execution_count": 21,
      "outputs": [
        {
          "output_type": "stream",
          "name": "stdout",
          "text": [
            "/content/BestModel\n",
            "Downloading...\n",
            "From: https://drive.google.com/uc?id=1QT4pCWqMsPMLXpEOTZc7XPf6UnlmYEFt\n",
            "To: /content/BestModel/BestLSTM_Enc.pth\n",
            "100% 84.6M/84.6M [00:01<00:00, 43.2MB/s]\n",
            "Downloading...\n",
            "From: https://drive.google.com/uc?id=1tja7eohOUoGKaqCWpK1qkK0GbILe2XG4\n",
            "To: /content/BestModel/BestLSTM_Dec.pth\n",
            "100% 141M/141M [00:03<00:00, 46.6MB/s]\n",
            "/content\n"
          ]
        },
        {
          "output_type": "execute_result",
          "data": {
            "text/plain": [
              "<All keys matched successfully>"
            ]
          },
          "metadata": {},
          "execution_count": 21
        }
      ]
    },
    {
      "cell_type": "code",
      "source": [
        "# a demo from the trained LSTM network\n",
        "print('========================= LSTM demo =========================\\n')\n",
        "print('------------ train data prediction ------------\\n')\n",
        "RandomMesraPredictor(train_data, encoder1, decoder1, n=5)\n",
        "\n",
        "print('------------ test data prediction ------------\\n')\n",
        "RandomMesraPredictor(test_data, encoder1, decoder1, n=5)"
      ],
      "metadata": {
        "colab": {
          "base_uri": "https://localhost:8080/"
        },
        "id": "59q4B8l83AIK",
        "outputId": "78d792a7-4a08-4f58-ec4f-23c0ce8b59df"
      },
      "execution_count": null,
      "outputs": [
        {
          "output_type": "stream",
          "name": "stdout",
          "text": [
            "========================= LSTM demo =========================\n",
            "\n",
            "------------ train data prediction ------------\n",
            "\n",
            "first Mesra همانا بداندیش افراسیاب\n",
            "second Mesra گذشتست زان سو بدریای اب\n",
            "Predicted second Mesra وزین گونه فرمود تا شتاب <EOS>\n",
            "\n",
            "first Mesra وزان پس به خواری و زخم و به بند\n",
            "second Mesra به پردخت از او شهریار بلند\n",
            "Predicted second Mesra به ویژه کسی کو بدی سودمند <EOS>\n",
            "\n",
            "first Mesra زمانی نکرد او یله جای خویش\n",
            "second Mesra بیفشارد بر کینه گه پای خویش\n",
            "Predicted second Mesra دلیری و نیروی جنگ را پای پیش <EOS>\n",
            "\n",
            "first Mesra چو بیدار شد رنج دیده ز خواب\n",
            "second Mesra ز خوی دید جای پرستش پراب\n",
            "Predicted second Mesra به نزدیک افراسیاب <EOS>\n",
            "\n",
            "first Mesra نگون اندر امد شماساس گرد\n",
            "second Mesra چو دید او ز قارن چنان دست برد\n",
            "Predicted second Mesra چو دید او ز قارن چنان دست برد <EOS>\n",
            "\n",
            "------------ test data prediction ------------\n",
            "\n",
            "first Mesra ز چیزی که بود اندران تازه بوم\n",
            "second Mesra همان جامه هایی که خیزد ز روم\n",
            "Predicted second Mesra همان از پی اسب تا مرز روم <EOS>\n",
            "\n",
            "first Mesra نباید که باشی فراوان سخن\n",
            "second Mesra به روی کسان پارسایی مکن\n",
            "Predicted second Mesra به روی کسان افگند بن <EOS>\n",
            "\n",
            "first Mesra از ایشان هر انکس که پیران بدند\n",
            "second Mesra سخن گوی و دانش پذیران بدند\n",
            "Predicted second Mesra سخن گوی و دانش بدند <EOS>\n",
            "\n",
            "first Mesra بران گونه بردند گردان گمان\n",
            "second Mesra که خسرو سرارد بریشان زمان\n",
            "Predicted second Mesra که بودند خوبست چندین زمان <EOS>\n",
            "\n",
            "first Mesra کسی را نماند که زشتی کند\n",
            "second Mesra وگر با نژندی درشتی کند\n",
            "Predicted second Mesra وگر با نژندی درشتی کند <EOS>\n",
            "\n"
          ]
        }
      ]
    },
    {
      "cell_type": "markdown",
      "source": [
        "## GRU architecture training"
      ],
      "metadata": {
        "id": "IR4xsEGwiQRr"
      }
    },
    {
      "cell_type": "code",
      "source": [
        "# model characterisrics\n",
        "hidden_size = 512\n",
        "encoder2 = EncoderRNN(input_lang.n_words, hidden_size, 'GRU').to(device)\n",
        "decoder2 = DecoderRNN(hidden_size, output_lang.n_words, 'GRU').to(device)\n",
        "\n",
        "learning_rate = 1e-3\n",
        "epochs = 5\n",
        "loss_fn    = nn.CrossEntropyLoss()\n",
        "\n",
        "optimizer1 = torch.optim.Adam(encoder2.parameters(), lr=learning_rate)\n",
        "optimizer2 = torch.optim.Adam(decoder2.parameters(), lr=learning_rate)\n",
        "optim_pack = [optimizer1,optimizer2]\n",
        "seq2seq = [encoder2,decoder2]\n",
        "Data    = [train_data,test_data]\n",
        "\n",
        "best_model_dir = [\"/content/drive/MyDrive/BestGRU_Enc.pth\", \"/content/drive/MyDrive/BestGRU_Dec.pth\"]\n",
        "arch_name = 'GRU'"
      ],
      "metadata": {
        "id": "hb6zabtYko0z"
      },
      "execution_count": null,
      "outputs": []
    },
    {
      "cell_type": "code",
      "source": [
        "# Because I can't run 10 epochs in 1 runtime of google colab GPU sharing, I devide it to two 5_epoch runtimes\n",
        "# GRU training\n",
        "# This cell take a long time to run. (you can load the best trained model from the next cell)\n",
        "\n",
        "##### FIRST RUNTIME ##############\n",
        "\n",
        "Acc_tr_hist ,loss_tr_hist ,Acc_te_hist ,loss_te_hist = train_epochs(Data , seq2seq, loss_fn , optim_pack, epochs , best_model_dir)\n",
        "MyModelAnalysis(arch_name , Acc_tr_hist , Acc_te_hist , loss_tr_hist , loss_te_hist, epochs)"
      ],
      "metadata": {
        "colab": {
          "base_uri": "https://localhost:8080/",
          "height": 1000
        },
        "id": "-5vkfTxUiO_K",
        "outputId": "7e88c134-c500-4cbe-94a2-5860bace6f55"
      },
      "execution_count": null,
      "outputs": [
        {
          "output_type": "stream",
          "name": "stdout",
          "text": [
            "Epoch 1\n",
            "-------------------------------\n",
            "loss: 0.001575  [    0/37206]\n",
            "loss: 6.517219  [ 6000/37206]\n",
            "loss: 6.059121  [12000/37206]\n",
            "loss: 5.752512  [18000/37206]\n",
            "loss: 5.586710  [24000/37206]\n",
            "loss: 5.525361  [30000/37206]\n",
            "loss: 5.476763  [36000/37206]\n",
            "train : \n",
            " Accuracy: 5.9%, Avg loss per Mesra: 6.941068 \n",
            "\n",
            "test : \n",
            " Accuracy: 5.1%, Avg loss per Mesra: 7.478075 \n",
            "\n",
            "Epoch 2\n",
            "-------------------------------\n",
            "loss: 0.001066  [    0/37206]\n",
            "loss: 4.803166  [ 6000/37206]\n",
            "loss: 4.977103  [12000/37206]\n",
            "loss: 5.018224  [18000/37206]\n",
            "loss: 5.147287  [24000/37206]\n",
            "loss: 5.126817  [30000/37206]\n",
            "loss: 5.156772  [36000/37206]\n",
            "train : \n",
            " Accuracy: 5.6%, Avg loss per Mesra: 6.999063 \n",
            "\n",
            "test : \n",
            " Accuracy: 4.8%, Avg loss per Mesra: 7.612586 \n",
            "\n",
            "Epoch 3\n",
            "-------------------------------\n",
            "loss: 0.000586  [    0/37206]\n",
            "loss: 4.330500  [ 6000/37206]\n",
            "loss: 4.528800  [12000/37206]\n",
            "loss: 4.609362  [18000/37206]\n",
            "loss: 4.747024  [24000/37206]\n",
            "loss: 4.880591  [30000/37206]\n",
            "loss: 4.904611  [36000/37206]\n",
            "train : \n",
            " Accuracy: 6.8%, Avg loss per Mesra: 6.900756 \n",
            "\n",
            "test : \n",
            " Accuracy: 5.9%, Avg loss per Mesra: 7.681212 \n",
            "\n",
            "Epoch 4\n",
            "-------------------------------\n",
            "loss: 0.000944  [    0/37206]\n",
            "loss: 3.942720  [ 6000/37206]\n",
            "loss: 4.165752  [12000/37206]\n",
            "loss: 4.296388  [18000/37206]\n",
            "loss: 4.420236  [24000/37206]\n",
            "loss: 4.541365  [30000/37206]\n",
            "loss: 4.620702  [36000/37206]\n",
            "train : \n",
            " Accuracy: 7.0%, Avg loss per Mesra: 7.105169 \n",
            "\n",
            "test : \n",
            " Accuracy: 5.7%, Avg loss per Mesra: 8.029521 \n",
            "\n",
            "Epoch 5\n",
            "-------------------------------\n",
            "loss: 0.000379  [    0/37206]\n",
            "loss: 3.610394  [ 6000/37206]\n",
            "loss: 3.804227  [12000/37206]\n",
            "loss: 4.020880  [18000/37206]\n",
            "loss: 4.153547  [24000/37206]\n",
            "loss: 4.287560  [30000/37206]\n",
            "loss: 4.333373  [36000/37206]\n",
            "train : \n",
            " Accuracy: 7.2%, Avg loss per Mesra: 7.229972 \n",
            "\n",
            "test : \n",
            " Accuracy: 5.8%, Avg loss per Mesra: 8.254511 \n",
            "\n",
            "Job is Done!\n",
            "the best trained model accuracy in test data: 0.057711753073388015\n"
          ]
        },
        {
          "output_type": "display_data",
          "data": {
            "text/plain": [
              "<Figure size 432x288 with 1 Axes>"
            ],
            "image/png": "[encoded data removed]"
          },
          "metadata": {
            "needs_background": "light"
          }
        },
        {
          "output_type": "display_data",
          "data": {
            "text/plain": [
              "<Figure size 432x288 with 1 Axes>"
            ],
            "image/png": "[encoded data removed]"
          },
          "metadata": {
            "needs_background": "light"
          }
        }
      ]
    },
    {
      "cell_type": "code",
      "source": [
        "##### Second RUNTIME ##############\n",
        "# fine tunes the best GRU model trained in the first 5 epochs.\n",
        "\n",
        "!mkdir BestModel\n",
        "%cd /content/BestModel/\n",
        "!gdown 1lRma1nPNaz8DkUAla3rHQf5aV3jNlo0y\n",
        "!gdown 1b9UFLaRonP0SnrpDNGViZo7u-3TEuytE\n",
        "%cd /content\n",
        "\n",
        "Best_GRU_Enc_dir = \"/content/BestModel/BestGRU_Enc.pth\"\n",
        "Best_GRU_Dec_dir = \"/content/BestModel/BestGRU_Dec.pth\"\n",
        "\n",
        "encoder2.load_state_dict(torch.load(Best_GRU_Enc_dir))\n",
        "decoder2.load_state_dict(torch.load(Best_GRU_Dec_dir))\n",
        "\n",
        "learning_rate = 1e-3\n",
        "epochs = 4\n",
        "\n",
        "Acc_tr_hist ,loss_tr_hist ,Acc_te_hist ,loss_te_hist = train_epochs(Data , seq2seq, loss_fn , optim_pack, epochs , best_model_dir)\n",
        "MyModelAnalysis(arch_name , Acc_tr_hist , Acc_te_hist , loss_tr_hist , loss_te_hist, epochs)"
      ],
      "metadata": {
        "id": "MVYAGVKglDqq",
        "colab": {
          "base_uri": "https://localhost:8080/"
        },
        "outputId": "c393881c-1341-437a-ce51-47e3dfb12361"
      },
      "execution_count": null,
      "outputs": [
        {
          "output_type": "stream",
          "name": "stdout",
          "text": [
            "/content/BestModel\n",
            "Downloading...\n",
            "From: https://drive.google.com/uc?id=1lRma1nPNaz8DkUAla3rHQf5aV3jNlo0y\n",
            "To: /content/BestModel/BestGRU_Dec.pth\n",
            "100% 93.0M/93.0M [00:00<00:00, 182MB/s]\n",
            "Downloading...\n",
            "From: https://drive.google.com/uc?id=1b9UFLaRonP0SnrpDNGViZo7u-3TEuytE\n",
            "To: /content/BestModel/BestGRU_Enc.pth\n",
            "100% 38.1M/38.1M [00:00<00:00, 264MB/s]\n",
            "/content\n",
            "Epoch 1\n",
            "-------------------------------\n",
            "loss: 0.000675  [    0/37206]\n",
            "loss: 3.383524  [ 6000/37206]\n",
            "loss: 3.589123  [12000/37206]\n",
            "loss: 3.798190  [18000/37206]\n",
            "loss: 3.958959  [24000/37206]\n",
            "loss: 4.073998  [30000/37206]\n",
            "loss: 4.164051  [36000/37206]\n",
            "train : \n",
            " Accuracy: 7.6%, Avg loss per Mesra: 7.538898 \n",
            "\n",
            "test : \n",
            " Accuracy: 5.8%, Avg loss per Mesra: 8.781810 \n",
            "\n",
            "Epoch 2\n",
            "-------------------------------\n",
            "loss: 0.000765  [    0/37206]\n",
            "loss: 3.141351  [ 6000/37206]\n",
            "loss: 3.405299  [12000/37206]\n",
            "loss: 3.584039  [18000/37206]\n",
            "loss: 3.736389  [24000/37206]\n",
            "loss: 3.837929  [30000/37206]\n",
            "loss: 3.935007  [36000/37206]\n",
            "train : \n",
            " Accuracy: 7.7%, Avg loss per Mesra: 7.800389 \n",
            "\n",
            "test : \n",
            " Accuracy: 5.9%, Avg loss per Mesra: 9.127164 \n",
            "\n",
            "Epoch 3\n",
            "-------------------------------\n",
            "loss: 0.000505  [    0/37206]\n",
            "loss: 2.995264  [ 6000/37206]\n",
            "loss: 3.229198  [12000/37206]\n",
            "loss: 3.445741  [18000/37206]\n",
            "loss: 3.617988  [24000/37206]\n",
            "loss: 3.736956  [30000/37206]\n",
            "loss: 3.825864  [36000/37206]\n",
            "train : \n",
            " Accuracy: 8.1%, Avg loss per Mesra: 7.868638 \n",
            "\n",
            "test : \n",
            " Accuracy: 6.0%, Avg loss per Mesra: 9.309321 \n",
            "\n",
            "Epoch 4\n",
            "-------------------------------\n",
            "loss: 0.000434  [    0/37206]\n",
            "loss: 2.860965  [ 6000/37206]\n",
            "loss: 3.145773  [12000/37206]\n",
            "loss: 3.303444  [18000/37206]\n",
            "loss: 3.474792  [24000/37206]\n",
            "loss: 3.575041  [30000/37206]\n"
          ]
        }
      ]
    },
    {
      "cell_type": "code",
      "source": [
        "# load the best trained GRU model\n",
        "\n",
        "%cd /content/BestModel/\n",
        "!gdown 1lRma1nPNaz8DkUAla3rHQf5aV3jNlo0y   \n",
        "!gdown 1b9UFLaRonP0SnrpDNGViZo7u-3TEuytE\n",
        "%cd /content\n",
        "\n",
        "Best_GRU_Enc_dir = \"/content/BestModel/BestGRU_Enc.pth\"\n",
        "Best_GRU_Dec_dir = \"/content/BestModel/BestGRU_Dec.pth\"\n",
        "\n",
        "hidden_size = 512\n",
        "encoder2 = EncoderRNN(input_lang.n_words, hidden_size, 'gru').to(device)\n",
        "decoder2 = DecoderRNN(hidden_size, output_lang.n_words, 'gru').to(device)\n",
        "\n",
        "encoder2.load_state_dict(torch.load(Best_GRU_Enc_dir))\n",
        "decoder2.load_state_dict(torch.load(Best_GRU_Dec_dir))"
      ],
      "metadata": {
        "id": "J-oAH4pMO4xS",
        "colab": {
          "base_uri": "https://localhost:8080/"
        },
        "outputId": "1e9e81b7-aeea-4cf4-c1d9-6af284a94c66"
      },
      "execution_count": 22,
      "outputs": [
        {
          "output_type": "stream",
          "name": "stdout",
          "text": [
            "/content/BestModel\n",
            "Downloading...\n",
            "From: https://drive.google.com/uc?id=1lRma1nPNaz8DkUAla3rHQf5aV3jNlo0y\n",
            "To: /content/BestModel/BestGRU_Dec.pth\n",
            "100% 93.0M/93.0M [00:03<00:00, 27.9MB/s]\n",
            "Downloading...\n",
            "From: https://drive.google.com/uc?id=1b9UFLaRonP0SnrpDNGViZo7u-3TEuytE\n",
            "To: /content/BestModel/BestGRU_Enc.pth\n",
            "100% 38.1M/38.1M [00:01<00:00, 30.1MB/s]\n",
            "/content\n"
          ]
        },
        {
          "output_type": "execute_result",
          "data": {
            "text/plain": [
              "<All keys matched successfully>"
            ]
          },
          "metadata": {},
          "execution_count": 22
        }
      ]
    },
    {
      "cell_type": "code",
      "source": [
        "# a demo from the trained GRU network\n",
        "print('========================= GRU demo =========================\\n')\n",
        "print('------------ train data prediction ------------\\n')\n",
        "RandomMesraPredictor(train_data, encoder2, decoder2, n=5)\n",
        "\n",
        "print('------------ test data prediction ------------\\n')\n",
        "RandomMesraPredictor(test_data, encoder2, decoder2, n=5)"
      ],
      "metadata": {
        "id": "IHx60KW8nNdR",
        "colab": {
          "base_uri": "https://localhost:8080/"
        },
        "outputId": "e7fb30ce-565a-4a0b-ef37-dcf38b3bf54b"
      },
      "execution_count": 23,
      "outputs": [
        {
          "output_type": "stream",
          "name": "stdout",
          "text": [
            "========================= GRU demo =========================\n",
            "\n",
            "------------ train data prediction ------------\n",
            "\n",
            "first Mesra همه دشت پر کشته و خسته بود\n",
            "second Mesra بخون بزرگان زمین شسته بود\n",
            "Predicted second Mesra بران سو که پور دستان بود <EOS>\n",
            "\n",
            "first Mesra به کدبانو اندرز کرد و به مرد\n",
            "second Mesra جهانی پر از دادگو را سپرد\n",
            "Predicted second Mesra ز گفتار او گشت شاه جهان <EOS>\n",
            "\n",
            "first Mesra اگر ساو و باژم فرستد نکوست\n",
            "second Mesra کسی را ندرد بدین جنگ پوست\n",
            "Predicted second Mesra که بر چرخ گردنده روز یاد <EOS>\n",
            "\n",
            "first Mesra به بالا به کردار سرو سهی\n",
            "second Mesra به دید را خورشید با فرهی\n",
            "Predicted second Mesra ز دینار وز گوهر شاهوار <EOS>\n",
            "\n",
            "first Mesra نه کس دید از ما نه هرگز شنید\n",
            "second Mesra که دام و دد و مرغ بر ره پرید\n",
            "Predicted second Mesra که بر زین دشت کس پدید امد پدید <EOS>\n",
            "\n",
            "------------ test data prediction ------------\n",
            "\n",
            "first Mesra میان سپاه اندر امد چو گرگ\n",
            "second Mesra پراگنده گشت ان سپاه بزرگ\n",
            "Predicted second Mesra ز سوگند و ان لشکر خویش دار <EOS>\n",
            "\n",
            "first Mesra دگر لشکری کز خراسان بدند\n",
            "second Mesra جهانجوی و مردم شناسان بدند\n",
            "Predicted second Mesra به زردی به سر بر سر افسر بدند <EOS>\n",
            "\n",
            "first Mesra به پیش سپاه اندر انداختند\n",
            "second Mesra ز پیکار ترکان بپرداختند\n",
            "Predicted second Mesra که ای مرد بدساز بی سر و سر <EOS>\n",
            "\n",
            "first Mesra سپهبد جزین خواسته هرچ دید\n",
            "second Mesra بگنج سپهدار ایران کشید\n",
            "Predicted second Mesra همی دید با او ز خون رفت دید <EOS>\n",
            "\n",
            "first Mesra کند حلقه در گردن کنگره\n",
            "second Mesra شود شیر شاد از شکار بره\n",
            "Predicted second Mesra بدین ارزو جان توران دژم <EOS>\n",
            "\n"
          ]
        }
      ]
    }
  ]
}